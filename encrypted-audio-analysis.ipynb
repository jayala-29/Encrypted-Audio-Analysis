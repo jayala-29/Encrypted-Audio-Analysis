{
 "cells": [
  {
   "cell_type": "code",
   "execution_count": null,
   "id": "4ff7d1b6",
   "metadata": {},
   "outputs": [],
   "source": [
    "import base64\n",
    "import IPython.display as ipd\n",
    "%matplotlib inline\n",
    "import librosa\n",
    "import librosa.display\n",
    "import matplotlib.pyplot as plt\n",
    "import os\n",
    "import numpy as np\n",
    "import random\n",
    "import soundfile as sf\n",
    "import time\n",
    "import wave"
   ]
  },
  {
   "cell_type": "markdown",
   "id": "384bf6e7",
   "metadata": {},
   "source": [
    "# Original Audio"
   ]
  },
  {
   "cell_type": "code",
   "execution_count": null,
   "id": "bd2fdc8f",
   "metadata": {},
   "outputs": [],
   "source": [
    "# open file and process at most one million frames\n",
    "with wave.open('airplane.wav') as fd:\n",
    "    params = fd.getparams()\n",
    "    frames = fd.readframes(1000000)\n",
    "    \n",
    "# time and sampling rate    \n",
    "x, sr = librosa.load('airplane.wav')\n",
    "\n",
    "# show high level wave plot\n",
    "plt.figure(figsize=(14, 5))\n",
    "librosa.display.waveplot(x, sr=sr, x_axis='s')\n",
    "\n",
    "# process media for audio file\n",
    "ipd.Audio(x, rate=sr)"
   ]
  },
  {
   "cell_type": "code",
   "execution_count": null,
   "id": "aac892e2",
   "metadata": {},
   "outputs": [],
   "source": [
    "# convert to bytes and load into numpy array\n",
    "x_bytes = x.tobytes()\n",
    "y = np.frombuffer(x_bytes,dtype=numpy.float32)\n",
    "\n",
    "# show number of unique values\n",
    "(unique, counts) = np.unique(y, return_counts=True)\n",
    "frequencies = numpy.asarray((unique, counts)).T\n",
    "print(len(frequencies), \"distinct values\")\n",
    "\n",
    "# create scatterplot representation\n",
    "nx = np.arange(0,len(y))\n",
    "ny = y\n",
    "plt.scatter(nx, ny, alpha=0.5)\n",
    "plt.xticks([])\n",
    "#plt.yticks([])\n",
    "plt.show()"
   ]
  },
  {
   "cell_type": "markdown",
   "id": "7af2dafc",
   "metadata": {},
   "source": [
    "# AES-GCM"
   ]
  },
  {
   "cell_type": "markdown",
   "id": "a2cc0419",
   "metadata": {},
   "source": [
    "## Encryption"
   ]
  },
  {
   "cell_type": "code",
   "execution_count": null,
   "id": "4a2519db",
   "metadata": {},
   "outputs": [],
   "source": [
    "from cryptography.hazmat.primitives.ciphers.aead import AESGCM\n",
    "\n",
    "t0 = time.time()\n",
    "aad = b\"authenticated but unencrypted data\"\n",
    "nonce = os.urandom(12)\n",
    "key = AESGCM.generate_key(bit_length=128)\n",
    "aesgcm = AESGCM(key)\n",
    "gct = aesgcm.encrypt(nonce, x_bytes, aad)\n",
    "t1 = time.time()\n",
    "print(\"Time taken to encrypt:\",t1-t0,\"seconds\")\n",
    "\n",
    "gcm_wav = numpy.frombuffer(gct,dtype=numpy.float32)\n",
    "sf.write('encrypted_file_gcm.wav', gcm_wav, sr)"
   ]
  },
  {
   "cell_type": "code",
   "execution_count": null,
   "id": "6a268cd4",
   "metadata": {},
   "outputs": [],
   "source": [
    "with wave.open('encrypted_file_gcm.wav') as fd:\n",
    "    params = fd.getparams()\n",
    "    frames = fd.readframes(1000000) \n",
    "    \n",
    "gcm_x, gcm_sr = librosa.load('encrypted_file_gcm.wav')\n",
    "\n",
    "plt.figure(figsize=(14, 5))\n",
    "librosa.display.waveplot(gcm_x, sr=gcm_sr)\n",
    "ipd.Audio(gcm_x, rate=sr)"
   ]
  },
  {
   "cell_type": "code",
   "execution_count": null,
   "id": "3baf9951",
   "metadata": {},
   "outputs": [],
   "source": [
    "x = np.arange(0,len(gcm_x))\n",
    "y = gcm_x\n",
    "\n",
    "(unique, counts) = np.unique(y, return_counts=True)\n",
    "frequencies = np.asarray((unique, counts)).T\n",
    "print(len(frequencies), \"distinct values\")\n",
    "print(\"Variance:\", np.var(y))\n",
    "\n",
    "plt.scatter(x, y, alpha=0.5)\n",
    "plt.xticks([])\n",
    "plt.show()"
   ]
  },
  {
   "cell_type": "markdown",
   "id": "98c4d1b3",
   "metadata": {},
   "source": [
    "## Decryption"
   ]
  },
  {
   "cell_type": "code",
   "execution_count": null,
   "id": "07f3f3a5",
   "metadata": {},
   "outputs": [],
   "source": [
    "t0 = time.time()\n",
    "gpt = aesgcm.decrypt(nonce, gct, aad)\n",
    "t1 = time.time()\n",
    "print(\"Time taken to decrypt:\",t1-t0,\"seconds\")\n",
    "daes_wav = numpy.frombuffer(gpt,dtype=numpy.float32)\n",
    "sf.write('decrypted_file_gcm.wav', daes_wav, sr)\n",
    "\n",
    "with wave.open('decrypted_file_gcm.wav') as fd:\n",
    "    params = fd.getparams()\n",
    "    frames = fd.readframes(1000000) \n",
    "    \n",
    "gcmd_x, gcmd_sr = librosa.load('decrypted_file_gcm.wav')\n",
    "\n",
    "# decrypted values should match original file and representations\n",
    "plt.figure(figsize=(14, 5))\n",
    "librosa.display.waveplot(gcmd_x, sr=gcmd_sr)\n",
    "ipd.Audio(gcmd_x, rate=gcmd_sr)"
   ]
  },
  {
   "cell_type": "markdown",
   "id": "728cf281",
   "metadata": {},
   "source": [
    "# AES-CCM"
   ]
  },
  {
   "cell_type": "markdown",
   "id": "343432d0",
   "metadata": {},
   "source": [
    "## Encryption"
   ]
  },
  {
   "cell_type": "code",
   "execution_count": null,
   "id": "86f14a6d",
   "metadata": {},
   "outputs": [],
   "source": [
    "from cryptography.hazmat.primitives.ciphers.aead import AESCCM\n",
    "\n",
    "t0 = time.time()\n",
    "aad = b\"authenticated but unencrypted data\"\n",
    "nonce = os.urandom(12)\n",
    "key = AESCCM.generate_key(bit_length=128)\n",
    "aesccm = AESCCM(key)\n",
    "cct = aesccm.encrypt(nonce, x_bytes, aad)\n",
    "t1 = time.time()\n",
    "print(\"Time taken to encrypt:\",t1-t0,\"seconds\")\n",
    "\n",
    "ccm_wav = numpy.frombuffer(cct,dtype=numpy.float32)\n",
    "sf.write('encrypted_file_ccm.wav', ccm_wav, sr)"
   ]
  },
  {
   "cell_type": "code",
   "execution_count": null,
   "id": "58979289",
   "metadata": {},
   "outputs": [],
   "source": [
    "with wave.open('encrypted_file_ccm.wav') as fd:\n",
    "    params = fd.getparams()\n",
    "    frames = fd.readframes(1000000) \n",
    "    \n",
    "ccm_x, ccm_sr = librosa.load('encrypted_file_ccm.wav')\n",
    "\n",
    "plt.figure(figsize=(14, 5))\n",
    "librosa.display.waveplot(ccm_x, sr=ccm_sr)\n",
    "ipd.Audio(ccm_x, rate=sr)"
   ]
  },
  {
   "cell_type": "code",
   "execution_count": null,
   "id": "34d67c1f",
   "metadata": {},
   "outputs": [],
   "source": [
    "x = np.arange(0,len(ccm_x))\n",
    "y = ccm_x\n",
    "\n",
    "(unique, counts) = np.unique(y, return_counts=True)\n",
    "frequencies = np.asarray((unique, counts)).T\n",
    "print(len(frequencies), \"distinct values\")\n",
    "print(\"Variance:\", np.var(y))\n",
    "\n",
    "plt.scatter(x, y, alpha=0.5)\n",
    "plt.xticks([])\n",
    "plt.show()"
   ]
  },
  {
   "cell_type": "markdown",
   "id": "24ece30f",
   "metadata": {},
   "source": [
    "## Decryption"
   ]
  },
  {
   "cell_type": "code",
   "execution_count": null,
   "id": "9b2012ee",
   "metadata": {},
   "outputs": [],
   "source": [
    "t0 = time.time()\n",
    "cpt = aesccm.decrypt(nonce, cct, aad)\n",
    "t1 = time.time()\n",
    "print(\"Time taken to decrypt:\",t1-t0,\"seconds\")\n",
    "ccm_wav = np.frombuffer(cpt,dtype=numpy.float32)\n",
    "sf.write('decrypted_file_ccm.wav', ccm_wav, sr)\n",
    "\n",
    "with wave.open('decrypted_file_ccm.wav') as fd:\n",
    "    params = fd.getparams()\n",
    "    frames = fd.readframes(1000000) \n",
    "    \n",
    "ccmd_x, ccmd_sr = librosa.load('decrypted_file_ccm.wav')\n",
    "\n",
    "# decrypted values should match original file and representations\n",
    "plt.figure(figsize=(14, 5))\n",
    "librosa.display.waveplot(ccmd_x, sr=ccmd_sr)\n",
    "ipd.Audio(ccmd_x, rate=ccmd_sr)"
   ]
  },
  {
   "cell_type": "markdown",
   "id": "883e6670",
   "metadata": {},
   "source": [
    "# Fernet (AES-CBC)"
   ]
  },
  {
   "cell_type": "markdown",
   "id": "6c710dde",
   "metadata": {},
   "source": [
    "## Encryption"
   ]
  },
  {
   "cell_type": "code",
   "execution_count": null,
   "id": "a26fdfc1",
   "metadata": {},
   "outputs": [],
   "source": [
    "from cryptography.fernet import Fernet\n",
    "from cryptography.hazmat.primitives import hashes\n",
    "from cryptography.hazmat.primitives.kdf.pbkdf2 import PBKDF2HMAC\n",
    "\n",
    "t0 = time.time()\n",
    "password = b\"password\"\n",
    "salt = os.urandom(16)\n",
    "kdf = PBKDF2HMAC(algorithm=hashes.SHA256(),length=32,salt=salt,iterations=100000)\n",
    "key = base64.urlsafe_b64encode(kdf.derive(password))\n",
    "f = Fernet(key)\n",
    "ct = f.encrypt(x_bytes)\n",
    "t1 = time.time()\n",
    "print(\"Time taken to encrypt:\",t1-t0,\"seconds\")\n",
    "\n",
    "fe_wav = numpy.frombuffer(ct,dtype=numpy.float32)\n",
    "sf.write('encrypted_file_fernet.wav', fe_wav, sr)"
   ]
  },
  {
   "cell_type": "code",
   "execution_count": null,
   "id": "74f15405",
   "metadata": {},
   "outputs": [],
   "source": [
    "with wave.open('encrypted_file_fernet.wav') as fd:\n",
    "    params = fd.getparams()\n",
    "    frames = fd.readframes(1000000)\n",
    "    \n",
    "fe_x, fe_sr = librosa.load('encrypted_file_fernet.wav')\n",
    "\n",
    "plt.figure(figsize=(14, 5))\n",
    "librosa.display.waveplot(fe_x, sr=fe_sr)\n",
    "ipd.Audio(fe_x, rate=fe_sr)"
   ]
  },
  {
   "cell_type": "code",
   "execution_count": null,
   "id": "9b560e46",
   "metadata": {},
   "outputs": [],
   "source": [
    "x = np.arange(0,len(fe_x))\n",
    "y = fe_x\n",
    "\n",
    "(unique, counts) = np.unique(y, return_counts=True)\n",
    "frequencies = np.asarray((unique, counts)).T\n",
    "print(len(frequencies), \"distinct values\")\n",
    "print(\"Variance:\", np.var(y))\n",
    "\n",
    "plt.scatter(x, y, alpha=0.5)\n",
    "plt.xticks([])\n",
    "plt.show()"
   ]
  },
  {
   "cell_type": "markdown",
   "id": "3e9f09a0",
   "metadata": {},
   "source": [
    "## Decryption"
   ]
  },
  {
   "cell_type": "code",
   "execution_count": null,
   "id": "bcff0423",
   "metadata": {},
   "outputs": [],
   "source": [
    "t0 = time.time()\n",
    "decrypted = f.decrypt(ct)\n",
    "t1 = time.time()\n",
    "print(\"Time taken to decrypt:\",t1-t0,\"seconds\")\n",
    "df_wav = numpy.frombuffer(decrypted,dtype=numpy.float32)\n",
    "sf.write('decrypted_file_fernet.wav', df_wav, sr)\n",
    "\n",
    "with wave.open('decrypted_file_fernet.wav') as fd:\n",
    "    params = fd.getparams()\n",
    "    frames = fd.readframes(1000000)\n",
    "    \n",
    "fd_x, fd_sr = librosa.load('decrypted_file_fernet.wav')\n",
    "\n",
    "# decrypted values should match original file and representations\n",
    "plt.figure(figsize=(14, 5))\n",
    "librosa.display.waveplot(fd_x, sr=fd_sr)\n",
    "ipd.Audio(fd_x, rate=fd_sr)"
   ]
  },
  {
   "cell_type": "markdown",
   "id": "85ee10b8",
   "metadata": {},
   "source": [
    "### Python Library Versions\n",
    "librosa: 0.8.1\n",
    "matplotlib: 3.4.2\n",
    "matplotlib-inline: 0.1.2\n",
    "numpy: 1.21.0\n",
    "Wave: 0.0.2"
   ]
  },
  {
   "cell_type": "code",
   "execution_count": null,
   "id": "5967a360",
   "metadata": {},
   "outputs": [],
   "source": []
  }
 ],
 "metadata": {
  "kernelspec": {
   "display_name": "Python 3",
   "language": "python",
   "name": "python3"
  },
  "language_info": {
   "codemirror_mode": {
    "name": "ipython",
    "version": 3
   },
   "file_extension": ".py",
   "mimetype": "text/x-python",
   "name": "python",
   "nbconvert_exporter": "python",
   "pygments_lexer": "ipython3",
   "version": "3.9.1"
  }
 },
 "nbformat": 4,
 "nbformat_minor": 5
}
